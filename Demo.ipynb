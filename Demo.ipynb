{
 "cells": [
  {
   "cell_type": "code",
   "execution_count": 2,
   "id": "461ec371",
   "metadata": {},
   "outputs": [
    {
     "name": "stdout",
     "output_type": "stream",
     "text": [
      "Collecting gensim\n",
      "  Downloading gensim-4.3.2-cp310-cp310-macosx_10_9_x86_64.whl.metadata (8.4 kB)\n",
      "Requirement already satisfied: numpy>=1.18.5 in /Library/Frameworks/Python.framework/Versions/3.10/lib/python3.10/site-packages (from gensim) (1.24.4)\n",
      "Requirement already satisfied: scipy>=1.7.0 in /Library/Frameworks/Python.framework/Versions/3.10/lib/python3.10/site-packages (from gensim) (1.10.1)\n",
      "Requirement already satisfied: smart-open>=1.8.1 in /Library/Frameworks/Python.framework/Versions/3.10/lib/python3.10/site-packages (from gensim) (6.4.0)\n",
      "Downloading gensim-4.3.2-cp310-cp310-macosx_10_9_x86_64.whl (24.1 MB)\n",
      "\u001b[2K   \u001b[90m━━━━━━━━━━━━━━━━━━━━━━━━━━━━━━━━━━━━━━━━\u001b[0m \u001b[32m24.1/24.1 MB\u001b[0m \u001b[31m9.2 MB/s\u001b[0m eta \u001b[36m0:00:00\u001b[0m:00:01\u001b[0m00:01\u001b[0m\n",
      "\u001b[?25hInstalling collected packages: gensim\n",
      "Successfully installed gensim-4.3.2\n",
      "\u001b[33mWARNING: There was an error checking the latest version of pip.\u001b[0m\u001b[33m\n",
      "\u001b[0m"
     ]
    }
   ],
   "source": [
    "!pip install gensim"
   ]
  },
  {
   "cell_type": "code",
   "execution_count": 3,
   "id": "e24bec40",
   "metadata": {},
   "outputs": [],
   "source": [
    "import numpy as np\n",
    "\n",
    "%matplotlib inline\n",
    "import matplotlib.pyplot as plt\n",
    "plt.style.use('ggplot')\n",
    "\n",
    "from sklearn.decomposition import PCA\n",
    "\n",
    "import gensim.downloader as api\n",
    "from gensim.models import KeyedVectors"
   ]
  },
  {
   "cell_type": "code",
   "execution_count": 4,
   "id": "480cd170",
   "metadata": {},
   "outputs": [
    {
     "name": "stdout",
     "output_type": "stream",
     "text": [
      "[==================================================] 100.0% 128.1/128.1MB downloaded\n",
      "<class 'gensim.models.keyedvectors.KeyedVectors'>\n"
     ]
    }
   ],
   "source": [
    "model = api.load('glove-wiki-gigaword-100')\n",
    "print(type(model))"
   ]
  },
  {
   "cell_type": "code",
   "execution_count": 5,
   "id": "6f4a620d",
   "metadata": {},
   "outputs": [
    {
     "data": {
      "text/plain": [
       "array([-0.66146  ,  0.94335  , -0.72214  ,  0.17403  , -0.42524  ,\n",
       "        0.36303  ,  1.0135   , -0.14802  ,  0.25817  , -0.20326  ,\n",
       "       -0.64338  ,  0.16632  ,  0.61518  ,  1.397    , -0.094506 ,\n",
       "        0.0041843, -0.18976  , -0.55421  , -0.39371  , -0.22501  ,\n",
       "       -0.34643  ,  0.32076  ,  0.34395  , -0.7034   ,  0.23932  ,\n",
       "        0.69951  , -0.16461  , -0.31819  , -0.34034  , -0.44906  ,\n",
       "       -0.069667 ,  0.35348  ,  0.17498  , -0.95057  , -0.2209   ,\n",
       "        1.0647   ,  0.23231  ,  0.32569  ,  0.47662  , -1.1206   ,\n",
       "        0.28168  , -0.75172  , -0.54654  , -0.66337  ,  0.34804  ,\n",
       "       -0.69058  , -0.77092  , -0.40167  , -0.069351 , -0.049238 ,\n",
       "       -0.39351  ,  0.16735  , -0.14512  ,  1.0083   , -1.0608   ,\n",
       "       -0.87314  , -0.29339  ,  0.68278  ,  0.61634  , -0.088844 ,\n",
       "        0.88094  ,  0.099809 , -0.27161  , -0.58026  ,  0.50364  ,\n",
       "       -0.93814  ,  0.67576  , -0.43124  , -0.10517  , -1.2404   ,\n",
       "       -0.74353  ,  0.28637  ,  0.29012  ,  0.89377  ,  0.67406  ,\n",
       "        0.86422  , -0.30693  , -0.14718  ,  0.078353 ,  0.74013  ,\n",
       "        0.32658  , -0.052579 , -1.1665   ,  0.87079  , -0.69402  ,\n",
       "       -0.75977  , -0.37164  , -0.11887  ,  0.18551  ,  0.041883 ,\n",
       "        0.59352  ,  0.30519  , -0.54819  , -0.29424  , -1.4912   ,\n",
       "       -1.6548   ,  0.98982  ,  0.27325  ,  1.009    ,  0.94544  ],\n",
       "      dtype=float32)"
      ]
     },
     "execution_count": 5,
     "metadata": {},
     "output_type": "execute_result"
    }
   ],
   "source": [
    "model['bread']"
   ]
  },
  {
   "cell_type": "code",
   "execution_count": 6,
   "id": "15c8f5a6",
   "metadata": {},
   "outputs": [
    {
     "data": {
      "text/plain": [
       "array([-0.25144  ,  0.52157  , -0.75452  ,  0.28039  , -0.31388  ,\n",
       "        0.274    ,  1.1971   , -0.10519  ,  0.82544  , -0.33398  ,\n",
       "       -0.21417  ,  0.22216  ,  0.14982  ,  0.47384  ,  0.41984  ,\n",
       "        0.69397  , -0.25999  , -0.44414  ,  0.58296  , -0.30851  ,\n",
       "       -0.076455 ,  0.33468  ,  0.28055  , -0.99012  ,  0.30349  ,\n",
       "        0.39128  ,  0.031526 , -0.095395 , -0.004745 , -0.81347  ,\n",
       "        0.27869  , -0.1812   ,  0.14632  , -0.42186  ,  0.13857  ,\n",
       "        1.139    ,  0.14925  , -0.051459 ,  0.37875  , -0.2613   ,\n",
       "        0.011081 , -0.28881  , -0.38662  , -0.3135   , -0.1954   ,\n",
       "        0.19248  , -0.52995  , -0.40674  , -0.25159  ,  0.06272  ,\n",
       "       -0.32724  ,  0.28374  , -0.2155   , -0.061832 , -0.50134  ,\n",
       "        0.0093959,  0.30715  ,  0.3873   , -0.74554  , -0.45947  ,\n",
       "        0.40032  , -0.1378   , -0.26968  , -0.3946   , -0.64876  ,\n",
       "       -0.47149  , -0.085536 ,  0.092795 , -0.034018 , -0.61906  ,\n",
       "        0.19123  ,  0.20563  ,  0.29056  , -0.010908 ,  0.15313  ,\n",
       "        0.33144  ,  0.33806  ,  0.061708 ,  0.20785  ,  0.65348  ,\n",
       "       -0.053222 ,  0.18589  ,  0.32647  , -0.11923  ,  0.42008  ,\n",
       "       -0.26931  ,  0.025489 ,  0.0036535,  0.1327   , -0.22763  ,\n",
       "        0.07564  ,  0.55773  ,  0.2978   ,  0.28144  ,  0.19775  ,\n",
       "       -0.23582  ,  0.65303  ,  0.089897 ,  0.35844  ,  0.14304  ],\n",
       "      dtype=float32)"
      ]
     },
     "execution_count": 6,
     "metadata": {},
     "output_type": "execute_result"
    }
   ],
   "source": [
    "model['croissant']"
   ]
  },
  {
   "cell_type": "code",
   "execution_count": 7,
   "id": "2f895388",
   "metadata": {},
   "outputs": [
    {
     "data": {
      "text/plain": [
       "[('canada', 0.6544384956359863),\n",
       " ('america', 0.645224392414093),\n",
       " ('u.s.a.', 0.6184033751487732),\n",
       " ('united', 0.6017189621925354),\n",
       " ('states', 0.5970699191093445),\n",
       " ('australia', 0.5838716626167297),\n",
       " ('world', 0.5590084195137024),\n",
       " ('2010', 0.5580702424049377),\n",
       " ('2012', 0.5504006743431091),\n",
       " ('davis', 0.5464468002319336)]"
      ]
     },
     "execution_count": 7,
     "metadata": {},
     "output_type": "execute_result"
    }
   ],
   "source": [
    "model.most_similar('usa')"
   ]
  },
  {
   "cell_type": "code",
   "execution_count": 8,
   "id": "a48621bd",
   "metadata": {},
   "outputs": [
    {
     "data": {
      "text/plain": [
       "[('coconut', 0.7097253203392029),\n",
       " ('mango', 0.7054824829101562),\n",
       " ('bananas', 0.6887733340263367),\n",
       " ('potato', 0.6629636287689209),\n",
       " ('pineapple', 0.6534532308578491),\n",
       " ('fruit', 0.6519854664802551),\n",
       " ('peanut', 0.6420575976371765),\n",
       " ('pecan', 0.6349173188209534),\n",
       " ('cashew', 0.6294420957565308),\n",
       " ('papaya', 0.6246591210365295)]"
      ]
     },
     "execution_count": 8,
     "metadata": {},
     "output_type": "execute_result"
    }
   ],
   "source": [
    "model.most_similar('banana')"
   ]
  },
  {
   "cell_type": "code",
   "execution_count": 22,
   "id": "9f6a3a9a",
   "metadata": {},
   "outputs": [
    {
     "data": {
      "text/plain": [
       "[('delicious', 0.6998943090438843),\n",
       " ('flavor', 0.6759310364723206),\n",
       " ('salty', 0.660306453704834),\n",
       " ('taste', 0.6559590101242065),\n",
       " ('honey', 0.6501505970954895),\n",
       " ('spicy', 0.6482806205749512),\n",
       " ('lovely', 0.6440784335136414),\n",
       " ('sour', 0.6408761739730835),\n",
       " ('fruit', 0.6229720711708069),\n",
       " ('savory', 0.6184981465339661)]"
      ]
     },
     "execution_count": 22,
     "metadata": {},
     "output_type": "execute_result"
    }
   ],
   "source": [
    "model.most_similar('sweet')"
   ]
  },
  {
   "cell_type": "code",
   "execution_count": 9,
   "id": "a77a547b",
   "metadata": {},
   "outputs": [
    {
     "data": {
      "text/plain": [
       "[('shunichi', 0.49618104100227356),\n",
       " ('ieronymos', 0.4736502170562744),\n",
       " ('pengrowth', 0.4668096601963043),\n",
       " ('höss', 0.4636845588684082),\n",
       " ('damaskinos', 0.4617849290370941),\n",
       " ('yadin', 0.4617374837398529),\n",
       " ('hundertwasser', 0.4588957726955414),\n",
       " ('ncpa', 0.4577339291572571),\n",
       " ('maccormac', 0.4566109776496887),\n",
       " ('rothfeld', 0.4523947238922119)]"
      ]
     },
     "execution_count": 9,
     "metadata": {},
     "output_type": "execute_result"
    }
   ],
   "source": [
    "model.most_similar(negative = 'banana')"
   ]
  },
  {
   "cell_type": "code",
   "execution_count": 10,
   "id": "8a751f87",
   "metadata": {},
   "outputs": [
    {
     "name": "stdout",
     "output_type": "stream",
     "text": [
      "('queen', 0.7698540687561035)\n"
     ]
    }
   ],
   "source": [
    "result = model.most_similar(positive = ['woman', 'king'], negative = ['man'])\n",
    "print(result[0])"
   ]
  },
  {
   "cell_type": "code",
   "execution_count": 11,
   "id": "ab1b4aa8",
   "metadata": {},
   "outputs": [],
   "source": [
    "def analogy(x1, x2, y1):\n",
    "    result = model.most_similar(positive = [y1, x2], negative = [x1])\n",
    "    return result[0][0]"
   ]
  },
  {
   "cell_type": "code",
   "execution_count": 12,
   "id": "66ab8c7c",
   "metadata": {},
   "outputs": [
    {
     "data": {
      "text/plain": [
       "'queen'"
      ]
     },
     "execution_count": 12,
     "metadata": {},
     "output_type": "execute_result"
    }
   ],
   "source": [
    "analogy('man', 'king', 'woman')"
   ]
  },
  {
   "cell_type": "code",
   "execution_count": 13,
   "id": "ca22f21f",
   "metadata": {},
   "outputs": [
    {
     "data": {
      "text/plain": [
       "'woman'"
      ]
     },
     "execution_count": 13,
     "metadata": {},
     "output_type": "execute_result"
    }
   ],
   "source": [
    "analogy('king', 'man', 'queen')"
   ]
  },
  {
   "cell_type": "code",
   "execution_count": 14,
   "id": "b69780f4",
   "metadata": {},
   "outputs": [
    {
     "data": {
      "text/plain": [
       "'champagne'"
      ]
     },
     "execution_count": 14,
     "metadata": {},
     "output_type": "execute_result"
    }
   ],
   "source": [
    "analogy('australia', 'beer', 'france')"
   ]
  },
  {
   "cell_type": "code",
   "execution_count": 15,
   "id": "96f8fb06",
   "metadata": {},
   "outputs": [
    {
     "data": {
      "text/plain": [
       "'photographing'"
      ]
     },
     "execution_count": 15,
     "metadata": {},
     "output_type": "execute_result"
    }
   ],
   "source": [
    "analogy('pencil', 'sketching', 'camera')"
   ]
  },
  {
   "cell_type": "code",
   "execution_count": 30,
   "id": "f9f6cc54",
   "metadata": {},
   "outputs": [
    {
     "data": {
      "text/plain": [
       "'two'"
      ]
     },
     "execution_count": 30,
     "metadata": {},
     "output_type": "execute_result"
    }
   ],
   "source": [
    "analogy('bike', 'car', 'four')"
   ]
  },
  {
   "cell_type": "code",
   "execution_count": 17,
   "id": "9a569923",
   "metadata": {},
   "outputs": [
    {
     "data": {
      "text/plain": [
       "'longest'"
      ]
     },
     "execution_count": 17,
     "metadata": {},
     "output_type": "execute_result"
    }
   ],
   "source": [
    "analogy('tall', 'tallest', 'long')"
   ]
  },
  {
   "cell_type": "code",
   "execution_count": 18,
   "id": "8abf16ed",
   "metadata": {},
   "outputs": [
    {
     "name": "stdout",
     "output_type": "stream",
     "text": [
      "cereal\n"
     ]
    }
   ],
   "source": [
    "print(model.doesnt_match(list('breakfast cereal dinner lunch'.split())))"
   ]
  },
  {
   "cell_type": "code",
   "execution_count": 21,
   "id": "a9a903ea",
   "metadata": {},
   "outputs": [
    {
     "name": "stdout",
     "output_type": "stream",
     "text": [
      "lunch\n"
     ]
    }
   ],
   "source": [
    "print(model.doesnt_match(list('breakfast cereal yogurt milk lunch'.split())))"
   ]
  },
  {
   "cell_type": "markdown",
   "id": "63fe3aff",
   "metadata": {},
   "source": [
    "**Citation:**\n",
    "\n",
    "YouTube. (2021, October 29). Stanford CS224N: NLP with Deep Learning | Winter 2021 | lecture 1 - Intro & Word Vectors. YouTube. https://www.youtube.com/watch?v=rmVRLeJRkl4&list=PLoROMvodv4rMFqRtEuo6SGjY4XbRIVRd4 \n"
   ]
  },
  {
   "cell_type": "markdown",
   "id": "2988785d",
   "metadata": {},
   "source": [
    "-----"
   ]
  }
 ],
 "metadata": {
  "kernelspec": {
   "display_name": "Python 3 (ipykernel)",
   "language": "python",
   "name": "python3"
  },
  "language_info": {
   "codemirror_mode": {
    "name": "ipython",
    "version": 3
   },
   "file_extension": ".py",
   "mimetype": "text/x-python",
   "name": "python",
   "nbconvert_exporter": "python",
   "pygments_lexer": "ipython3",
   "version": "3.10.7"
  }
 },
 "nbformat": 4,
 "nbformat_minor": 5
}
